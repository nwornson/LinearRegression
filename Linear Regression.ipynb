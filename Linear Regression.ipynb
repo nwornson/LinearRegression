{
 "cells": [
  {
   "cell_type": "markdown",
   "metadata": {},
   "source": [
    "Dependencies"
   ]
  },
  {
   "cell_type": "code",
   "execution_count": 5,
   "metadata": {},
   "outputs": [],
   "source": [
    "import numpy as np\n",
    "from numpy.linalg import inv # invert a matrix\n",
    "import matplotlib.pyplot as plt\n",
    "%matplotlib inline\n"
   ]
  },
  {
   "cell_type": "markdown",
   "metadata": {},
   "source": [
    "The data: \n",
    "X = Uncalibrated Measurements in pixels\n",
    "Y = Reference/known diameters (thousanths of an inch)"
   ]
  },
  {
   "cell_type": "code",
   "execution_count": 6,
   "metadata": {},
   "outputs": [],
   "source": [
    "x = np.array([137.6,302,397,462,523,695])\n",
    "y = np.array([30.1,62.5,81.4,93.7,106.2,140])"
   ]
  },
  {
   "cell_type": "code",
   "execution_count": 8,
   "metadata": {
    "scrolled": true
   },
   "outputs": [
    {
     "data": {
      "image/png": "[encoded data removed]",
      "text/plain": [
       "<Figure size 432x288 with 1 Axes>"
      ]
     },
     "metadata": {
      "needs_background": "light"
     },
     "output_type": "display_data"
    }
   ],
   "source": [
    "fig, ax = plt.subplots()\n",
    "lines = ax.plot(x,y)\n",
    "ax.scatter(x,y)\n",
    "plt.show()"
   ]
  },
  {
   "cell_type": "markdown",
   "metadata": {},
   "source": [
    "When we plot the data, we see some serious correlation between the measurements and the reference.  We can fit a first order linear model to the data in the following form, where beta a is a vector of coefficients, in this case just length two with the intercept and slope:"
   ]
  },
  {
   "cell_type": "markdown",
   "metadata": {},
   "source": [
    "\\begin{equation*}\n",
    "Y = \\beta X + \\epsilon\n",
    "\\end{equation*}"
   ]
  },
  {
   "cell_type": "code",
   "execution_count": null,
   "metadata": {},
   "outputs": [],
   "source": [
    "We are able to find an unbiased estimate of the coefficients (beta) by defining our loss function as the squared error, and minimizing with respect to beta."
   ]
  },
  {
   "cell_type": "markdown",
   "metadata": {},
   "source": [
    "\\begin{equation*}\n",
    "arg \\quad min \\ (Y - \\beta X)^2 \\\\ \n",
    "\\frac{d}{dx} \\quad -2X^tY + 2BX^tX = 0 \\\\\n",
    "\\beta = X^tY(X^tX)^-1\n",
    "\\end{equation*}"
   ]
  },
  {
   "cell_type": "markdown",
   "metadata": {},
   "source": [
    "In Python,"
   ]
  },
  {
   "cell_type": "code",
   "execution_count": 38,
   "metadata": {},
   "outputs": [],
   "source": [
    "# Create a class object\n",
    "class lindmod:\n",
    "    # initialize\n",
    "    def _init_(self,x,y):\n",
    "        self.coef = None\n",
    "        \n",
    "    # fit the line    \n",
    "    def fit(self,x,y):\n",
    "        # create a column of ones in order to get an intercept\n",
    "        x = np.c_[np.ones(x.shape[0]),x]\n",
    "        self.coef =  (np.transpose(x) @ (y)) @ inv(np.transpose(x) @ x)\n",
    "        self.mse = sum((y - x @ np.transpose(self.coef))**2)\n",
    "    \n",
    "    # Prediction\n",
    "    def predict(self,xnew):\n",
    "        \n",
    "        return self.coef[0] + np.dot(xnew,self.coef[1:])\n"
   ]
  },
  {
   "cell_type": "code",
   "execution_count": 48,
   "metadata": {},
   "outputs": [
    {
     "data": {
      "text/plain": [
       "array([2.96500295, 0.19713502])"
      ]
     },
     "execution_count": 48,
     "metadata": {},
     "output_type": "execute_result"
    }
   ],
   "source": [
    "model = lindmod()\n",
    "model.fit(x,y)\n",
    "coefs = model.coef\n",
    "coefs"
   ]
  },
  {
   "cell_type": "code",
   "execution_count": 55,
   "metadata": {},
   "outputs": [
    {
     "data": {
      "text/plain": [
       "array([139.97383936])"
      ]
     },
     "execution_count": 55,
     "metadata": {},
     "output_type": "execute_result"
    }
   ],
   "source": [
    "model.predict(695)"
   ]
  },
  {
   "cell_type": "markdown",
   "metadata": {},
   "source": [
    "Use a known library to check our calculations"
   ]
  },
  {
   "cell_type": "code",
   "execution_count": 42,
   "metadata": {},
   "outputs": [],
   "source": [
    "from sklearn.linear_model import LinearRegression"
   ]
  },
  {
   "cell_type": "code",
   "execution_count": 47,
   "metadata": {},
   "outputs": [
    {
     "name": "stdout",
     "output_type": "stream",
     "text": [
      "2.965002948244262\n",
      "[0.19713502]\n"
     ]
    }
   ],
   "source": [
    "model2 = LinearRegression()\n",
    "model2.fit(x.reshape(-1,1),y) # reshape data to 6x1\n",
    "print(model2.intercept_)\n",
    "print(model2.coef_)"
   ]
  },
  {
   "cell_type": "markdown",
   "metadata": {},
   "source": [
    "Checks out.  We can also plot the new line on top of the old line"
   ]
  },
  {
   "cell_type": "code",
   "execution_count": 53,
   "metadata": {},
   "outputs": [
    {
     "data": {
      "image/png": "[encoded data removed]",
      "text/plain": [
       "<Figure size 432x288 with 1 Axes>"
      ]
     },
     "metadata": {
      "needs_background": "light"
     },
     "output_type": "display_data"
    }
   ],
   "source": [
    "xsim = np.arange(0,700,50)\n",
    "ysim = xsim * coefs[1] + coefs[0]\n",
    "fig, ax = plt.subplots()\n",
    "lines = ax.plot(x,y,'-g')\n",
    "lines = ax.plot(xsim,ysim,'-b')\n",
    "ax.scatter(x,y)\n",
    "plt.show()"
   ]
  },
  {
   "cell_type": "markdown",
   "metadata": {},
   "source": [
    "complete overlap"
   ]
  }
 ],
 "metadata": {
  "kernelspec": {
   "display_name": "Python 3",
   "language": "python",
   "name": "python3"
  },
  "language_info": {
   "codemirror_mode": {
    "name": "ipython",
    "version": 3
   },
   "file_extension": ".py",
   "mimetype": "text/x-python",
   "name": "python",
   "nbconvert_exporter": "python",
   "pygments_lexer": "ipython3",
   "version": "3.6.9"
  }
 },
 "nbformat": 4,
 "nbformat_minor": 2
}
